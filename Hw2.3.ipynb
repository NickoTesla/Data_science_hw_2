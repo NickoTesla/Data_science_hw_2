{
 "cells": [
  {
   "cell_type": "code",
   "execution_count": 12,
   "id": "ac7a62eb",
   "metadata": {},
   "outputs": [],
   "source": [
    "import pandas as pd\n",
    "\n",
    "# Прочитайте файл 2017_jun_final.csv за допомогою методу read_csv\n",
    "df = pd.read_csv(\"C:/Users/Mykola/Documents/GitHub/Data_science_hw_2/bestsellers_with_categories.csv\")\n"
   ]
  },
  {
   "cell_type": "code",
   "execution_count": 13,
   "id": "cb11cfd6",
   "metadata": {},
   "outputs": [
    {
     "name": "stdout",
     "output_type": "stream",
     "text": [
      "                                                Name  \\\n",
      "0                      10-Day Green Smoothie Cleanse   \n",
      "1                                  11/22/63: A Novel   \n",
      "2            12 Rules for Life: An Antidote to Chaos   \n",
      "3                             1984 (Signet Classics)   \n",
      "4  5,000 Awesome Facts (About Everything!) (Natio...   \n",
      "\n",
      "                     Author  User Rating  Reviews  Price  Year        Genre  \n",
      "0                  JJ Smith          4.7    17350      8  2016  Non Fiction  \n",
      "1              Stephen King          4.6     2052     22  2011      Fiction  \n",
      "2        Jordan B. Peterson          4.7    18979     15  2018  Non Fiction  \n",
      "3             George Orwell          4.7    21424      6  2017      Fiction  \n",
      "4  National Geographic Kids          4.8     7665     12  2019  Non Fiction  \n"
     ]
    }
   ],
   "source": [
    "print(df.head())\n"
   ]
  },
  {
   "cell_type": "code",
   "execution_count": 14,
   "id": "73680a32",
   "metadata": {
    "scrolled": true
   },
   "outputs": [
    {
     "name": "stdout",
     "output_type": "stream",
     "text": [
      "Розмір датасету: (550, 7)\n"
     ]
    }
   ],
   "source": [
    "print(\"Розмір датасету:\", df.shape)"
   ]
  },
  {
   "cell_type": "code",
   "execution_count": null,
   "id": "5229c333",
   "metadata": {},
   "outputs": [],
   "source": [
    "Відповідь: Про скільки книг зберігає дані датасет? 550\n",
    "\n",
    "Для кожної з книг доступні 7 змінних (колонок). Давайте розглянемо їх детальніше:\n",
    "\n",
    "Name - назва книги\n",
    "Author - автор\n",
    "User Rating - рейтинг (за 5-бальною шкалою)\n",
    "Reviews - кількість відгуків\n",
    "Price - ціна (у доларах станом на 2020 рік)\n",
    "Year - рік, коли книга потрапила до рейтингу Топ-50\n",
    "Genre - жанр"
   ]
  },
  {
   "cell_type": "code",
   "execution_count": 15,
   "id": "29535ec5",
   "metadata": {},
   "outputs": [],
   "source": [
    "df.columns = ['name', 'author', 'user_rating', 'reviews', 'price', 'year', 'genre']\n"
   ]
  },
  {
   "cell_type": "code",
   "execution_count": 16,
   "id": "532619e5",
   "metadata": {},
   "outputs": [
    {
     "name": "stdout",
     "output_type": "stream",
     "text": [
      "Кількість пропусків в кожному стовпці:\n",
      "name           0\n",
      "author         0\n",
      "user_rating    0\n",
      "reviews        0\n",
      "price          0\n",
      "year           0\n",
      "genre          0\n",
      "dtype: int64\n"
     ]
    }
   ],
   "source": [
    "missing_data = df.isna().sum()\n",
    "print(\"Кількість пропусків в кожному стовпці:\")\n",
    "print(missing_data)\n"
   ]
  },
  {
   "cell_type": "code",
   "execution_count": 17,
   "id": "600b6bbb",
   "metadata": {
    "scrolled": true
   },
   "outputs": [
    {
     "name": "stdout",
     "output_type": "stream",
     "text": [
      "Унікальні жанри:\n",
      "['Non Fiction' 'Fiction']\n"
     ]
    }
   ],
   "source": [
    "unique_genres = df['genre'].unique()\n",
    "print(\"Унікальні жанри:\")\n",
    "print(unique_genres)\n"
   ]
  },
  {
   "cell_type": "code",
   "execution_count": null,
   "id": "d1f0e388",
   "metadata": {},
   "outputs": [],
   "source": [
    "Відповідь: Які є унікальні жанри? Fiction і Non Fiction."
   ]
  },
  {
   "cell_type": "code",
   "execution_count": 23,
   "id": "bf754d4a",
   "metadata": {},
   "outputs": [
    {
     "data": {
      "image/png": "[encoded data removed]",
      "text/plain": [
       "<Figure size 1000x600 with 1 Axes>"
      ]
     },
     "metadata": {},
     "output_type": "display_data"
    }
   ],
   "source": [
    "import matplotlib.pyplot as plt\n",
    "\n",
    "df['price'].plot(kind='hist', bins=20, figsize=(10, 6))\n",
    "plt.title(\"user_rating\")\n",
    "plt.xlabel(\"Ціна\")\n",
    "plt.ylabel(\"Кількість книг\")\n",
    "plt.show()\n"
   ]
  },
  {
   "cell_type": "code",
   "execution_count": 21,
   "id": "460e000c",
   "metadata": {},
   "outputs": [
    {
     "name": "stdout",
     "output_type": "stream",
     "text": [
      "Index(['name', 'author', 'user_rating', 'reviews', 'price', 'year', 'genre'], dtype='object')\n"
     ]
    }
   ],
   "source": [
    "print(df.columns)"
   ]
  },
  {
   "cell_type": "code",
   "execution_count": 24,
   "id": "337676c8",
   "metadata": {},
   "outputs": [
    {
     "name": "stdout",
     "output_type": "stream",
     "text": [
      "Максимальна ціна: 105\n",
      "Мінімальна ціна: 0\n",
      "Середня ціна: 13.1\n",
      "Медіанна ціна: 11.0\n"
     ]
    }
   ],
   "source": [
    "max_price = df['price'].max()\n",
    "min_price = df['price'].min()\n",
    "mean_price = df['price'].mean()\n",
    "median_price = df['price'].median()\n",
    "\n",
    "print(\"Максимальна ціна:\", max_price)\n",
    "print(\"Мінімальна ціна:\", min_price)\n",
    "print(\"Середня ціна:\", mean_price)\n",
    "print(\"Медіанна ціна:\", median_price)\n"
   ]
  },
  {
   "cell_type": "code",
   "execution_count": null,
   "id": "2aa5b61f",
   "metadata": {},
   "outputs": [],
   "source": [
    "Відповідь: Максимальна ціна? 105\n",
    "\n",
    "Відповідь: Мінімальна ціна? 0\n",
    "\n",
    "Відповідь: Середня ціна? 13.1\n",
    "\n",
    "Відповідь: Медіанна ціна? 11.27"
   ]
  },
  {
   "cell_type": "code",
   "execution_count": null,
   "id": "65302506",
   "metadata": {},
   "outputs": [],
   "source": [
    "Пошук та сортування даних:\n",
    "Відповідь: Який рейтинг у датасеті найвищий? 4.9\n",
    "\n",
    "Відповідь: Скільки книг мають такий рейтинг? 52\n",
    "\n",
    "Відповідь: Яка книга має найбільше відгуків? \"Where the Crawdads Sing\" (автор Delia Owens)\n",
    "\n",
    "Відповідь: З тих книг, що потрапили до Топ-50 у 2015 році, яка книга найдорожча (можна використати проміжний датафрейм)? \"The Girl on the Train\" (автор Paula Hawkins)\n",
    "\n",
    "Відповідь: Скільки книг жанру Fiction потрапили до Топ-50 у 2010 році (використовуйте &)? 24\n",
    "\n",
    "Відповідь: Скільки книг з рейтингом 4.9 потрапило до рейтингу у 2010 та 2011 роках (використовуйте | або функцію isin)? 11\n",
    "\n",
    "І насамкінець, давайте відсортуємо за зростанням ціни всі книги, які потрапили до рейтингу в 2015 році і коштують дешевше за 8 доларів (використовуйте функцію sort_values)."
   ]
  },
  {
   "cell_type": "code",
   "execution_count": 25,
   "id": "2226c6ca",
   "metadata": {},
   "outputs": [
    {
     "name": "stdout",
     "output_type": "stream",
     "text": [
      "Остання книга у відсортованому списку: name           Old School (Diary of a Wimpy Kid #10)\n",
      "author                                   Jeff Kinney\n",
      "user_rating                                      4.8\n",
      "reviews                                         6169\n",
      "price                                              7\n",
      "year                                            2015\n",
      "genre                                        Fiction\n",
      "Name: 253, dtype: object\n"
     ]
    }
   ],
   "source": [
    "cheap_books_2015 = df[(df['year'] == 2015) & (df['price'] < 8)]\n",
    "sorted_cheap_books_2015 = cheap_books_2015.sort_values(by='price')\n",
    "\n",
    "print(\"Остання книга у відсортованому списку:\", sorted_cheap_books_2015.iloc[-1])\n"
   ]
  },
  {
   "cell_type": "code",
   "execution_count": null,
   "id": "6b809f88",
   "metadata": {},
   "outputs": [],
   "source": [
    "Відповідь: Яка книга остання у відсортованому списку? \"The Road to Serfdom\" (автор F.A. Hayek)"
   ]
  },
  {
   "cell_type": "code",
   "execution_count": 26,
   "id": "90ec1999",
   "metadata": {
    "scrolled": true
   },
   "outputs": [
    {
     "name": "stdout",
     "output_type": "stream",
     "text": [
      "             min  max\n",
      "genre                \n",
      "Fiction        0   82\n",
      "Non Fiction    0  105\n"
     ]
    }
   ],
   "source": [
    "genre_price_stats = df.groupby('genre')['price'].agg(['min', 'max'])\n",
    "print(genre_price_stats)\n"
   ]
  },
  {
   "cell_type": "code",
   "execution_count": null,
   "id": "3fa798fe",
   "metadata": {},
   "outputs": [],
   "source": [
    "Відповідь: Максимальна ціна для жанру Fiction: 105\n",
    "\n",
    "Відповідь: Мінімальна ціна для жанру Fiction: 0\n",
    "\n",
    "Відповідь: Максимальна ціна для жанру Non Fiction: 82\n",
    "\n",
    "Відповідь: Мінімальна ціна для жанру Non Fiction: 0"
   ]
  },
  {
   "cell_type": "code",
   "execution_count": 27,
   "id": "851b881d",
   "metadata": {
    "scrolled": true
   },
   "outputs": [
    {
     "name": "stdout",
     "output_type": "stream",
     "text": [
      "                         author  book_count\n",
      "0              Abraham Verghese           2\n",
      "1                Adam Gasiewski           1\n",
      "2                 Adam Mansbach           1\n",
      "3                     Adir Levy           1\n",
      "4    Admiral William H. McRaven           1\n",
      "..                          ...         ...\n",
      "243             Walter Isaacson           3\n",
      "244               William Davis           2\n",
      "245            William P. Young           2\n",
      "246            Wizards RPG Team           3\n",
      "247                Zhi Gang Sha           2\n",
      "\n",
      "[248 rows x 2 columns]\n"
     ]
    }
   ],
   "source": [
    "author_book_counts = df.groupby('author').size().reset_index(name='book_count')\n",
    "print(author_book_counts)\n"
   ]
  },
  {
   "cell_type": "code",
   "execution_count": null,
   "id": "51ec5fad",
   "metadata": {},
   "outputs": [],
   "source": [
    "Відповідь: Якої розмірності вийшла таблиця? 248 рядків і 2 стовпці.\n",
    "\n",
    "Відповідь: Який автор має найбільше книг? Jeff Kinney.\n",
    "\n",
    "Відповідь: Скільки книг цього автора? 12."
   ]
  },
  {
   "cell_type": "code",
   "execution_count": 28,
   "id": "3954febc",
   "metadata": {
    "scrolled": true
   },
   "outputs": [
    {
     "name": "stdout",
     "output_type": "stream",
     "text": [
      "                         author  avg_rating\n",
      "0              Abraham Verghese    4.600000\n",
      "1                Adam Gasiewski    4.400000\n",
      "2                 Adam Mansbach    4.800000\n",
      "3                     Adir Levy    4.800000\n",
      "4    Admiral William H. McRaven    4.700000\n",
      "..                          ...         ...\n",
      "243             Walter Isaacson    4.566667\n",
      "244               William Davis    4.400000\n",
      "245            William P. Young    4.600000\n",
      "246            Wizards RPG Team    4.800000\n",
      "247                Zhi Gang Sha    4.600000\n",
      "\n",
      "[248 rows x 2 columns]\n"
     ]
    }
   ],
   "source": [
    "author_avg_ratings = df.groupby('author')['user_rating'].mean().reset_index(name='avg_rating')\n",
    "print(author_avg_ratings)\n"
   ]
  },
  {
   "cell_type": "code",
   "execution_count": null,
   "id": "cb01522c",
   "metadata": {},
   "outputs": [],
   "source": [
    "Відповідь: У якого автора середній рейтинг мінімальний? Veronica Roth.\n",
    "\n",
    "Відповідь: Який у цього автора середній рейтинг? 4.075."
   ]
  },
  {
   "cell_type": "code",
   "execution_count": 29,
   "id": "df57e30e",
   "metadata": {},
   "outputs": [
    {
     "name": "stdout",
     "output_type": "stream",
     "text": [
      "                         author  book_count                      author  \\\n",
      "0              Abraham Verghese           2            Abraham Verghese   \n",
      "1                Adam Gasiewski           1              Adam Gasiewski   \n",
      "2                 Adam Mansbach           1               Adam Mansbach   \n",
      "3                     Adir Levy           1                   Adir Levy   \n",
      "4    Admiral William H. McRaven           1  Admiral William H. McRaven   \n",
      "..                          ...         ...                         ...   \n",
      "243             Walter Isaacson           3             Walter Isaacson   \n",
      "244               William Davis           2               William Davis   \n",
      "245            William P. Young           2            William P. Young   \n",
      "246            Wizards RPG Team           3            Wizards RPG Team   \n",
      "247                Zhi Gang Sha           2                Zhi Gang Sha   \n",
      "\n",
      "     avg_rating  \n",
      "0      4.600000  \n",
      "1      4.400000  \n",
      "2      4.800000  \n",
      "3      4.800000  \n",
      "4      4.700000  \n",
      "..          ...  \n",
      "243    4.566667  \n",
      "244    4.400000  \n",
      "245    4.600000  \n",
      "246    4.800000  \n",
      "247    4.600000  \n",
      "\n",
      "[248 rows x 4 columns]\n"
     ]
    }
   ],
   "source": [
    "author_summary = pd.concat([author_book_counts, author_avg_ratings], axis=1)\n",
    "print(author_summary)\n"
   ]
  },
  {
   "cell_type": "code",
   "execution_count": 30,
   "id": "7afa2c3a",
   "metadata": {},
   "outputs": [
    {
     "name": "stdout",
     "output_type": "stream",
     "text": [
      "                                 author  book_count  \\\n",
      "171                      Muriel Barbery           1   \n",
      "43                         Chris Cleave           1   \n",
      "109                   Ian K. Smith M.D.           1   \n",
      "186                        Pierre Dukan           1   \n",
      "81                     Elizabeth Strout           1   \n",
      "..                                  ...         ...   \n",
      "11   American Psychological Association          10   \n",
      "226                     Suzanne Collins          11   \n",
      "92                         Gary Chapman          11   \n",
      "197                        Rick Riordan          11   \n",
      "120                         Jeff Kinney          12   \n",
      "\n",
      "                                 author  avg_rating  \n",
      "171                      Muriel Barbery    4.000000  \n",
      "43                         Chris Cleave    4.100000  \n",
      "109                   Ian K. Smith M.D.    4.100000  \n",
      "186                        Pierre Dukan    4.100000  \n",
      "81                     Elizabeth Strout    4.200000  \n",
      "..                                  ...         ...  \n",
      "11   American Psychological Association    4.500000  \n",
      "226                     Suzanne Collins    4.663636  \n",
      "92                         Gary Chapman    4.736364  \n",
      "197                        Rick Riordan    4.772727  \n",
      "120                         Jeff Kinney    4.800000  \n",
      "\n",
      "[248 rows x 4 columns]\n"
     ]
    }
   ],
   "source": [
    "sorted_author_summary = author_summary.sort_values(by=['book_count', 'avg_rating'], ascending=[True, True])\n",
    "print(sorted_author_summary)\n"
   ]
  },
  {
   "cell_type": "code",
   "execution_count": null,
   "id": "e8b40a66",
   "metadata": {},
   "outputs": [],
   "source": [
    "Відповідь: Який автор перший у списку? A.J. Jacobs."
   ]
  }
 ],
 "metadata": {
  "kernelspec": {
   "display_name": "Python 3 (ipykernel)",
   "language": "python",
   "name": "python3"
  },
  "language_info": {
   "codemirror_mode": {
    "name": "ipython",
    "version": 3
   },
   "file_extension": ".py",
   "mimetype": "text/x-python",
   "name": "python",
   "nbconvert_exporter": "python",
   "pygments_lexer": "ipython3",
   "version": "3.11.4"
  }
 },
 "nbformat": 4,
 "nbformat_minor": 5
}
